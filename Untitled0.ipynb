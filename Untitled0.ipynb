{
  "nbformat": 4,
  "nbformat_minor": 0,
  "metadata": {
    "colab": {
      "provenance": [],
      "authorship_tag": "ABX9TyOZZ7SaUPtCFUr4DnU19Hkp",
      "include_colab_link": true
    },
    "kernelspec": {
      "name": "python3",
      "display_name": "Python 3"
    },
    "language_info": {
      "name": "python"
    }
  },
  "cells": [
    {
      "cell_type": "markdown",
      "metadata": {
        "id": "view-in-github",
        "colab_type": "text"
      },
      "source": [
        "<a href=\"https://colab.research.google.com/github/Moglaman/PDA_SOL/blob/main/Untitled0.ipynb\" target=\"_parent\"><img src=\"https://colab.research.google.com/assets/colab-badge.svg\" alt=\"Open In Colab\"/></a>"
      ]
    },
    {
      "cell_type": "code",
      "execution_count": 6,
      "metadata": {
        "colab": {
          "base_uri": "https://localhost:8080/"
        },
        "id": "YE2xRkCDOdTF",
        "outputId": "b9be9377-b123-48c0-a08f-4d6654d508b7"
      },
      "outputs": [
        {
          "output_type": "stream",
          "name": "stdout",
          "text": [
            "К\n",
            "а\n",
            "й\n",
            "г\n",
            "о\n",
            "р\n",
            "о\n",
            "д\n",
            "ц\n",
            "е\n",
            "в\n",
            " \n",
            "М\n",
            "и\n",
            "х\n",
            "а\n",
            "и\n",
            "л\n",
            " \n",
            "Я\n",
            "р\n",
            "о\n",
            "с\n",
            "л\n",
            "а\n",
            "в\n",
            "о\n",
            "в\n",
            "и\n",
            "ч\n"
          ]
        }
      ],
      "source": [
        "fullname = [\"К\",\"а\",\"й\",\"г\",\"о\",\"р\",\"о\",\"д\",\"ц\",\"е\",\"в\",\" \",\"М\",\"и\",\"х\",\"а\",\"и\",\"л\",\" \", \"Я\",\"р\",\"о\",\"с\",\"л\",\"а\",\"в\",\"о\",\"в\",\"и\",\"ч\"]\n",
        "for name in fullname:\n",
        "  print(name)"
      ]
    },
    {
      "cell_type": "code",
      "source": [
        "def exchange(rub):\n",
        "  jena = rub * 1.5\n",
        "  return jena"
      ],
      "metadata": {
        "id": "Lv519mr8Yx4x"
      },
      "execution_count": 18,
      "outputs": []
    },
    {
      "cell_type": "code",
      "source": [
        "exchange(5)"
      ],
      "metadata": {
        "colab": {
          "base_uri": "https://localhost:8080/"
        },
        "id": "URbATgHwZehW",
        "outputId": "d61273a9-7df0-4700-cd52-5a00550cd7d1"
      },
      "execution_count": 19,
      "outputs": [
        {
          "output_type": "execute_result",
          "data": {
            "text/plain": [
              "7.5"
            ]
          },
          "metadata": {},
          "execution_count": 19
        }
      ]
    }
  ]
}