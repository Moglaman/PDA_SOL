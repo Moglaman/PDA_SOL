{
  "nbformat": 4,
  "nbformat_minor": 0,
  "metadata": {
    "colab": {
      "provenance": [],
      "authorship_tag": "ABX9TyMr07R42oecYD5ABumkfcUf",
      "include_colab_link": true
    },
    "kernelspec": {
      "name": "python3",
      "display_name": "Python 3"
    },
    "language_info": {
      "name": "python"
    }
  },
  "cells": [
    {
      "cell_type": "markdown",
      "metadata": {
        "id": "view-in-github",
        "colab_type": "text"
      },
      "source": [
        "<a href=\"https://colab.research.google.com/github/Moglaman/PDA_SOL/blob/main/Untitled1.ipynb\" target=\"_parent\"><img src=\"https://colab.research.google.com/assets/colab-badge.svg\" alt=\"Open In Colab\"/></a>"
      ]
    },
    {
      "cell_type": "code",
      "execution_count": null,
      "metadata": {
        "colab": {
          "base_uri": "https://localhost:8080/"
        },
        "id": "YE2xRkCDOdTF",
        "outputId": "60e959cc-ff2c-44be-da86-0c4e8b4b0201"
      },
      "outputs": [
        {
          "output_type": "stream",
          "name": "stdout",
          "text": [
            "К\n",
            "а\n",
            "й\n",
            "г\n",
            "о\n",
            "р\n",
            "о\n",
            "д\n",
            "ц\n",
            "е\n",
            "в\n",
            " \n",
            "М\n",
            "и\n",
            "х\n",
            "а\n",
            "и\n",
            "л\n",
            " \n",
            "Я\n",
            "р\n",
            "о\n",
            "с\n",
            "л\n",
            "а\n",
            "в\n",
            "о\n",
            "в\n",
            "и\n",
            "ч\n"
          ]
        }
      ],
      "source": [
        "fullname = [\"К\",\"а\",\"й\",\"г\",\"о\",\"р\",\"о\",\"д\",\"ц\",\"е\",\"в\",\" \",\"М\",\"и\",\"х\",\"а\",\"и\",\"л\",\" \", \"Я\",\"р\",\"о\",\"с\",\"л\",\"а\",\"в\",\"о\",\"в\",\"и\",\"ч\"]\n",
        "for name in fullname:\n",
        "  print(name)"
      ]
    },
    {
      "cell_type": "code",
      "source": [
        "def exchange(rub):\n",
        "  jena = rub * 1.55\n",
        "  return jena"
      ],
      "metadata": {
        "id": "Lv519mr8Yx4x"
      },
      "execution_count": 23,
      "outputs": []
    },
    {
      "cell_type": "code",
      "source": [
        "exchange(5)"
      ],
      "metadata": {
        "id": "URbATgHwZehW",
        "colab": {
          "base_uri": "https://localhost:8080/"
        },
        "outputId": "0cbcc910-1ba5-4f24-824d-3b761f0c1849"
      },
      "execution_count": 24,
      "outputs": [
        {
          "output_type": "execute_result",
          "data": {
            "text/plain": [
              "7.75"
            ]
          },
          "metadata": {},
          "execution_count": 24
        }
      ]
    }
  ]
}