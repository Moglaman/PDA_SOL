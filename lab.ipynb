{
 "cells": [
  {
   "cell_type": "code",
   "execution_count": 217,
   "metadata": {},
   "outputs": [
    {
     "data": {
      "text/html": [
       "<div>\n",
       "<style scoped>\n",
       "    .dataframe tbody tr th:only-of-type {\n",
       "        vertical-align: middle;\n",
       "    }\n",
       "\n",
       "    .dataframe tbody tr th {\n",
       "        vertical-align: top;\n",
       "    }\n",
       "\n",
       "    .dataframe thead th {\n",
       "        text-align: right;\n",
       "    }\n",
       "</style>\n",
       "<table border=\"1\" class=\"dataframe\">\n",
       "  <thead>\n",
       "    <tr style=\"text-align: right;\">\n",
       "      <th></th>\n",
       "      <th>user_id</th>\n",
       "      <th>subscribing_channel</th>\n",
       "      <th>date_subscribed</th>\n",
       "      <th>date_canceled</th>\n",
       "      <th>is_retained</th>\n",
       "    </tr>\n",
       "  </thead>\n",
       "  <tbody>\n",
       "    <tr>\n",
       "      <th>0</th>\n",
       "      <td>a1000</td>\n",
       "      <td>House Ads</td>\n",
       "      <td>1/1/18</td>\n",
       "      <td>NaN</td>\n",
       "      <td>True</td>\n",
       "    </tr>\n",
       "    <tr>\n",
       "      <th>1</th>\n",
       "      <td>a1001</td>\n",
       "      <td>House Ads</td>\n",
       "      <td>1/1/18</td>\n",
       "      <td>NaN</td>\n",
       "      <td>True</td>\n",
       "    </tr>\n",
       "    <tr>\n",
       "      <th>2</th>\n",
       "      <td>a1002</td>\n",
       "      <td>House Ads</td>\n",
       "      <td>1/1/18</td>\n",
       "      <td>NaN</td>\n",
       "      <td>True</td>\n",
       "    </tr>\n",
       "    <tr>\n",
       "      <th>3</th>\n",
       "      <td>a1003</td>\n",
       "      <td>House Ads</td>\n",
       "      <td>1/1/18</td>\n",
       "      <td>NaN</td>\n",
       "      <td>True</td>\n",
       "    </tr>\n",
       "    <tr>\n",
       "      <th>4</th>\n",
       "      <td>a1004</td>\n",
       "      <td>House Ads</td>\n",
       "      <td>1/1/18</td>\n",
       "      <td>NaN</td>\n",
       "      <td>True</td>\n",
       "    </tr>\n",
       "    <tr>\n",
       "      <th>...</th>\n",
       "      <td>...</td>\n",
       "      <td>...</td>\n",
       "      <td>...</td>\n",
       "      <td>...</td>\n",
       "      <td>...</td>\n",
       "    </tr>\n",
       "    <tr>\n",
       "      <th>10032</th>\n",
       "      <td>a11032</td>\n",
       "      <td>Email</td>\n",
       "      <td>1/17/18</td>\n",
       "      <td>1/24/18</td>\n",
       "      <td>False</td>\n",
       "    </tr>\n",
       "    <tr>\n",
       "      <th>10033</th>\n",
       "      <td>a11033</td>\n",
       "      <td>Email</td>\n",
       "      <td>1/17/18</td>\n",
       "      <td>NaN</td>\n",
       "      <td>True</td>\n",
       "    </tr>\n",
       "    <tr>\n",
       "      <th>10034</th>\n",
       "      <td>a11034</td>\n",
       "      <td>Email</td>\n",
       "      <td>1/17/18</td>\n",
       "      <td>NaN</td>\n",
       "      <td>True</td>\n",
       "    </tr>\n",
       "    <tr>\n",
       "      <th>10035</th>\n",
       "      <td>a11035</td>\n",
       "      <td>Email</td>\n",
       "      <td>1/17/18</td>\n",
       "      <td>NaN</td>\n",
       "      <td>True</td>\n",
       "    </tr>\n",
       "    <tr>\n",
       "      <th>10036</th>\n",
       "      <td>a11036</td>\n",
       "      <td>Email</td>\n",
       "      <td>1/17/18</td>\n",
       "      <td>NaN</td>\n",
       "      <td>True</td>\n",
       "    </tr>\n",
       "  </tbody>\n",
       "</table>\n",
       "<p>10037 rows × 5 columns</p>\n",
       "</div>"
      ],
      "text/plain": [
       "      user_id subscribing_channel date_subscribed date_canceled is_retained\n",
       "0       a1000           House Ads          1/1/18           NaN        True\n",
       "1       a1001           House Ads          1/1/18           NaN        True\n",
       "2       a1002           House Ads          1/1/18           NaN        True\n",
       "3       a1003           House Ads          1/1/18           NaN        True\n",
       "4       a1004           House Ads          1/1/18           NaN        True\n",
       "...       ...                 ...             ...           ...         ...\n",
       "10032  a11032               Email         1/17/18       1/24/18       False\n",
       "10033  a11033               Email         1/17/18           NaN        True\n",
       "10034  a11034               Email         1/17/18           NaN        True\n",
       "10035  a11035               Email         1/17/18           NaN        True\n",
       "10036  a11036               Email         1/17/18           NaN        True\n",
       "\n",
       "[10037 rows x 5 columns]"
      ]
     },
     "execution_count": 217,
     "metadata": {},
     "output_type": "execute_result"
    }
   ],
   "source": [
    "import pandas as pd \n",
    "import numpy as np\n",
    "df1 = pd.read_csv('../dataframes/5lab frames/marketing_campaign.csv', na_values='?')\n",
    "df2 = pd.read_csv('../dataframes/5lab frames/subscribers.csv', na_values='?')\n",
    "df3 = pd.read_csv('../dataframes/5lab frames/users.csv', na_values='?')\n",
    "df2"
   ]
  },
  {
   "cell_type": "code",
   "execution_count": 218,
   "metadata": {},
   "outputs": [
    {
     "name": "stdout",
     "output_type": "stream",
     "text": [
      "10037\n",
      "10037\n",
      "10037\n"
     ]
    }
   ],
   "source": [
    "print(df1.shape[0])  \n",
    "print(df2.shape[0])  \n",
    "print(df3.shape[0])  "
   ]
  },
  {
   "cell_type": "code",
   "execution_count": 219,
   "metadata": {},
   "outputs": [
    {
     "data": {
      "text/html": [
       "<div>\n",
       "<style scoped>\n",
       "    .dataframe tbody tr th:only-of-type {\n",
       "        vertical-align: middle;\n",
       "    }\n",
       "\n",
       "    .dataframe tbody tr th {\n",
       "        vertical-align: top;\n",
       "    }\n",
       "\n",
       "    .dataframe thead th {\n",
       "        text-align: right;\n",
       "    }\n",
       "</style>\n",
       "<table border=\"1\" class=\"dataframe\">\n",
       "  <thead>\n",
       "    <tr style=\"text-align: right;\">\n",
       "      <th></th>\n",
       "      <th>user_id</th>\n",
       "      <th>date_served</th>\n",
       "      <th>marketing_channel</th>\n",
       "      <th>variant</th>\n",
       "      <th>language_displayed</th>\n",
       "      <th>converted</th>\n",
       "      <th>subscribing_channel</th>\n",
       "      <th>date_subscribed</th>\n",
       "      <th>date_canceled</th>\n",
       "      <th>is_retained</th>\n",
       "      <th>age_group</th>\n",
       "      <th>language_preferred</th>\n",
       "    </tr>\n",
       "  </thead>\n",
       "  <tbody>\n",
       "    <tr>\n",
       "      <th>0</th>\n",
       "      <td>a1000</td>\n",
       "      <td>1/1/18</td>\n",
       "      <td>House Ads</td>\n",
       "      <td>personalization</td>\n",
       "      <td>English</td>\n",
       "      <td>True</td>\n",
       "      <td>House Ads</td>\n",
       "      <td>1/1/18</td>\n",
       "      <td>NaN</td>\n",
       "      <td>True</td>\n",
       "      <td>0-18 years</td>\n",
       "      <td>English</td>\n",
       "    </tr>\n",
       "    <tr>\n",
       "      <th>1</th>\n",
       "      <td>a1001</td>\n",
       "      <td>1/1/18</td>\n",
       "      <td>House Ads</td>\n",
       "      <td>personalization</td>\n",
       "      <td>English</td>\n",
       "      <td>True</td>\n",
       "      <td>House Ads</td>\n",
       "      <td>1/1/18</td>\n",
       "      <td>NaN</td>\n",
       "      <td>True</td>\n",
       "      <td>19-24 years</td>\n",
       "      <td>English</td>\n",
       "    </tr>\n",
       "    <tr>\n",
       "      <th>2</th>\n",
       "      <td>a1002</td>\n",
       "      <td>1/1/18</td>\n",
       "      <td>House Ads</td>\n",
       "      <td>personalization</td>\n",
       "      <td>English</td>\n",
       "      <td>True</td>\n",
       "      <td>House Ads</td>\n",
       "      <td>1/1/18</td>\n",
       "      <td>NaN</td>\n",
       "      <td>True</td>\n",
       "      <td>24-30 years</td>\n",
       "      <td>English</td>\n",
       "    </tr>\n",
       "    <tr>\n",
       "      <th>3</th>\n",
       "      <td>a1003</td>\n",
       "      <td>1/1/18</td>\n",
       "      <td>House Ads</td>\n",
       "      <td>personalization</td>\n",
       "      <td>English</td>\n",
       "      <td>True</td>\n",
       "      <td>House Ads</td>\n",
       "      <td>1/1/18</td>\n",
       "      <td>NaN</td>\n",
       "      <td>True</td>\n",
       "      <td>30-36 years</td>\n",
       "      <td>English</td>\n",
       "    </tr>\n",
       "    <tr>\n",
       "      <th>4</th>\n",
       "      <td>a1004</td>\n",
       "      <td>1/1/18</td>\n",
       "      <td>House Ads</td>\n",
       "      <td>personalization</td>\n",
       "      <td>English</td>\n",
       "      <td>True</td>\n",
       "      <td>House Ads</td>\n",
       "      <td>1/1/18</td>\n",
       "      <td>NaN</td>\n",
       "      <td>True</td>\n",
       "      <td>36-45 years</td>\n",
       "      <td>English</td>\n",
       "    </tr>\n",
       "    <tr>\n",
       "      <th>...</th>\n",
       "      <td>...</td>\n",
       "      <td>...</td>\n",
       "      <td>...</td>\n",
       "      <td>...</td>\n",
       "      <td>...</td>\n",
       "      <td>...</td>\n",
       "      <td>...</td>\n",
       "      <td>...</td>\n",
       "      <td>...</td>\n",
       "      <td>...</td>\n",
       "      <td>...</td>\n",
       "      <td>...</td>\n",
       "    </tr>\n",
       "    <tr>\n",
       "      <th>10032</th>\n",
       "      <td>a11032</td>\n",
       "      <td>1/17/18</td>\n",
       "      <td>Email</td>\n",
       "      <td>control</td>\n",
       "      <td>German</td>\n",
       "      <td>True</td>\n",
       "      <td>Email</td>\n",
       "      <td>1/17/18</td>\n",
       "      <td>1/24/18</td>\n",
       "      <td>False</td>\n",
       "      <td>45-55 years</td>\n",
       "      <td>German</td>\n",
       "    </tr>\n",
       "    <tr>\n",
       "      <th>10033</th>\n",
       "      <td>a11033</td>\n",
       "      <td>1/17/18</td>\n",
       "      <td>Email</td>\n",
       "      <td>control</td>\n",
       "      <td>German</td>\n",
       "      <td>True</td>\n",
       "      <td>Email</td>\n",
       "      <td>1/17/18</td>\n",
       "      <td>NaN</td>\n",
       "      <td>True</td>\n",
       "      <td>55+ years</td>\n",
       "      <td>German</td>\n",
       "    </tr>\n",
       "    <tr>\n",
       "      <th>10034</th>\n",
       "      <td>a11034</td>\n",
       "      <td>1/5/18</td>\n",
       "      <td>Instagram</td>\n",
       "      <td>control</td>\n",
       "      <td>German</td>\n",
       "      <td>False</td>\n",
       "      <td>Email</td>\n",
       "      <td>1/17/18</td>\n",
       "      <td>NaN</td>\n",
       "      <td>True</td>\n",
       "      <td>55+ years</td>\n",
       "      <td>German</td>\n",
       "    </tr>\n",
       "    <tr>\n",
       "      <th>10035</th>\n",
       "      <td>a11035</td>\n",
       "      <td>1/17/18</td>\n",
       "      <td>Email</td>\n",
       "      <td>control</td>\n",
       "      <td>German</td>\n",
       "      <td>True</td>\n",
       "      <td>Email</td>\n",
       "      <td>1/17/18</td>\n",
       "      <td>NaN</td>\n",
       "      <td>True</td>\n",
       "      <td>0-18 years</td>\n",
       "      <td>German</td>\n",
       "    </tr>\n",
       "    <tr>\n",
       "      <th>10036</th>\n",
       "      <td>a11036</td>\n",
       "      <td>1/6/18</td>\n",
       "      <td>Facebook</td>\n",
       "      <td>control</td>\n",
       "      <td>German</td>\n",
       "      <td>False</td>\n",
       "      <td>Email</td>\n",
       "      <td>1/17/18</td>\n",
       "      <td>NaN</td>\n",
       "      <td>True</td>\n",
       "      <td>0-18 years</td>\n",
       "      <td>German</td>\n",
       "    </tr>\n",
       "  </tbody>\n",
       "</table>\n",
       "<p>10037 rows × 12 columns</p>\n",
       "</div>"
      ],
      "text/plain": [
       "      user_id date_served marketing_channel          variant  \\\n",
       "0       a1000      1/1/18         House Ads  personalization   \n",
       "1       a1001      1/1/18         House Ads  personalization   \n",
       "2       a1002      1/1/18         House Ads  personalization   \n",
       "3       a1003      1/1/18         House Ads  personalization   \n",
       "4       a1004      1/1/18         House Ads  personalization   \n",
       "...       ...         ...               ...              ...   \n",
       "10032  a11032     1/17/18             Email          control   \n",
       "10033  a11033     1/17/18             Email          control   \n",
       "10034  a11034      1/5/18         Instagram          control   \n",
       "10035  a11035     1/17/18             Email          control   \n",
       "10036  a11036      1/6/18          Facebook          control   \n",
       "\n",
       "      language_displayed converted subscribing_channel date_subscribed  \\\n",
       "0                English      True           House Ads          1/1/18   \n",
       "1                English      True           House Ads          1/1/18   \n",
       "2                English      True           House Ads          1/1/18   \n",
       "3                English      True           House Ads          1/1/18   \n",
       "4                English      True           House Ads          1/1/18   \n",
       "...                  ...       ...                 ...             ...   \n",
       "10032             German      True               Email         1/17/18   \n",
       "10033             German      True               Email         1/17/18   \n",
       "10034             German     False               Email         1/17/18   \n",
       "10035             German      True               Email         1/17/18   \n",
       "10036             German     False               Email         1/17/18   \n",
       "\n",
       "      date_canceled is_retained    age_group language_preferred  \n",
       "0               NaN        True   0-18 years            English  \n",
       "1               NaN        True  19-24 years            English  \n",
       "2               NaN        True  24-30 years            English  \n",
       "3               NaN        True  30-36 years            English  \n",
       "4               NaN        True  36-45 years            English  \n",
       "...             ...         ...          ...                ...  \n",
       "10032       1/24/18       False  45-55 years             German  \n",
       "10033           NaN        True    55+ years             German  \n",
       "10034           NaN        True    55+ years             German  \n",
       "10035           NaN        True   0-18 years             German  \n",
       "10036           NaN        True   0-18 years             German  \n",
       "\n",
       "[10037 rows x 12 columns]"
      ]
     },
     "execution_count": 219,
     "metadata": {},
     "output_type": "execute_result"
    }
   ],
   "source": [
    "df = df1.merge(df2, on='user_id')\n",
    "df = df.merge(df3, on='user_id')\n",
    "df"
   ]
  },
  {
   "cell_type": "code",
   "execution_count": 220,
   "metadata": {},
   "outputs": [
    {
     "data": {
      "text/plain": [
       "user_id                object\n",
       "date_served            object\n",
       "marketing_channel      object\n",
       "variant                object\n",
       "language_displayed     object\n",
       "converted              object\n",
       "subscribing_channel    object\n",
       "date_subscribed        object\n",
       "date_canceled          object\n",
       "is_retained            object\n",
       "age_group              object\n",
       "language_preferred     object\n",
       "dtype: object"
      ]
     },
     "execution_count": 220,
     "metadata": {},
     "output_type": "execute_result"
    }
   ],
   "source": [
    "df.dtypes"
   ]
  },
  {
   "cell_type": "code",
   "execution_count": 221,
   "metadata": {},
   "outputs": [
    {
     "data": {
      "text/plain": [
       "marketing_channel\n",
       "Email        149\n",
       "Facebook     260\n",
       "House Ads    502\n",
       "Instagram    261\n",
       "Push         107\n",
       "Name: is_retained, dtype: object"
      ]
     },
     "execution_count": 221,
     "metadata": {},
     "output_type": "execute_result"
    }
   ],
   "source": [
    "df_grouped = df.groupby('marketing_channel')['is_retained'].sum()\n",
    "df_grouped"
   ]
  },
  {
   "cell_type": "code",
   "execution_count": 222,
   "metadata": {},
   "outputs": [
    {
     "data": {
      "text/plain": [
       "age_group\n",
       "0-18 years     1539\n",
       "19-24 years    1682\n",
       "24-30 years    1568\n",
       "30-36 years    1355\n",
       "36-45 years    1353\n",
       "45-55 years    1353\n",
       "55+ years      1187\n",
       "Name: user_id, dtype: int64"
      ]
     },
     "execution_count": 222,
     "metadata": {},
     "output_type": "execute_result"
    }
   ],
   "source": [
    "df_count = df.groupby('age_group')['user_id'].count()\n",
    "df_count"
   ]
  },
  {
   "cell_type": "code",
   "execution_count": 223,
   "metadata": {},
   "outputs": [
    {
     "data": {
      "text/plain": [
       "Timestamp('2018-01-01 00:00:00')"
      ]
     },
     "execution_count": 223,
     "metadata": {},
     "output_type": "execute_result"
    }
   ],
   "source": [
    "datetime = df['date_subscribed']\n",
    "datetime = pd.to_datetime(datetime,format=\"%m/%d/%y\")\n",
    "datetime.min()\n",
    "\n"
   ]
  },
  {
   "cell_type": "code",
   "execution_count": 224,
   "metadata": {},
   "outputs": [
    {
     "data": {
      "text/plain": [
       "age_group    language_displayed\n",
       "0-18 years   Arabic                  3\n",
       "             English               213\n",
       "             German                 10\n",
       "             Spanish                 3\n",
       "19-24 years  Arabic                  1\n",
       "             English               311\n",
       "             German                  9\n",
       "             Spanish                 5\n",
       "24-30 years  English               255\n",
       "             German                 15\n",
       "             Spanish                 3\n",
       "30-36 years  English               117\n",
       "             German                  1\n",
       "             Spanish                 4\n",
       "36-45 years  Arabic                  1\n",
       "             English               111\n",
       "             German                  2\n",
       "             Spanish                 1\n",
       "45-55 years  Arabic                  2\n",
       "             English               110\n",
       "             German                  2\n",
       "             Spanish                 5\n",
       "55+ years    Arabic                  2\n",
       "             English                88\n",
       "             German                  2\n",
       "             Spanish                 3\n",
       "Name: user_id, dtype: int64"
      ]
     },
     "execution_count": 224,
     "metadata": {},
     "output_type": "execute_result"
    }
   ],
   "source": [
    "retained = df[df['is_retained'] == True].groupby(['age_group', 'language_displayed'])['user_id'].count()\n",
    "retained"
   ]
  },
  {
   "cell_type": "code",
   "execution_count": 225,
   "metadata": {},
   "outputs": [
    {
     "data": {
      "text/html": [
       "<div>\n",
       "<style scoped>\n",
       "    .dataframe tbody tr th:only-of-type {\n",
       "        vertical-align: middle;\n",
       "    }\n",
       "\n",
       "    .dataframe tbody tr th {\n",
       "        vertical-align: top;\n",
       "    }\n",
       "\n",
       "    .dataframe thead th {\n",
       "        text-align: right;\n",
       "    }\n",
       "</style>\n",
       "<table border=\"1\" class=\"dataframe\">\n",
       "  <thead>\n",
       "    <tr style=\"text-align: right;\">\n",
       "      <th></th>\n",
       "      <th>user_id</th>\n",
       "      <th>date_served</th>\n",
       "      <th>marketing_channel</th>\n",
       "      <th>variant</th>\n",
       "      <th>language_displayed</th>\n",
       "      <th>converted</th>\n",
       "      <th>subscribing_channel</th>\n",
       "      <th>date_subscribed</th>\n",
       "      <th>date_canceled</th>\n",
       "      <th>is_retained</th>\n",
       "      <th>age_group</th>\n",
       "      <th>language_preferred</th>\n",
       "    </tr>\n",
       "  </thead>\n",
       "  <tbody>\n",
       "    <tr>\n",
       "      <th>0</th>\n",
       "      <td>a1000</td>\n",
       "      <td>1/1/18</td>\n",
       "      <td>House Ads</td>\n",
       "      <td>personalization</td>\n",
       "      <td>English</td>\n",
       "      <td>1</td>\n",
       "      <td>House Ads</td>\n",
       "      <td>1/1/18</td>\n",
       "      <td>NaN</td>\n",
       "      <td>True</td>\n",
       "      <td>0-18 years</td>\n",
       "      <td>English</td>\n",
       "    </tr>\n",
       "    <tr>\n",
       "      <th>1</th>\n",
       "      <td>a1001</td>\n",
       "      <td>1/1/18</td>\n",
       "      <td>House Ads</td>\n",
       "      <td>personalization</td>\n",
       "      <td>English</td>\n",
       "      <td>1</td>\n",
       "      <td>House Ads</td>\n",
       "      <td>1/1/18</td>\n",
       "      <td>NaN</td>\n",
       "      <td>True</td>\n",
       "      <td>19-24 years</td>\n",
       "      <td>English</td>\n",
       "    </tr>\n",
       "    <tr>\n",
       "      <th>2</th>\n",
       "      <td>a1002</td>\n",
       "      <td>1/1/18</td>\n",
       "      <td>House Ads</td>\n",
       "      <td>personalization</td>\n",
       "      <td>English</td>\n",
       "      <td>1</td>\n",
       "      <td>House Ads</td>\n",
       "      <td>1/1/18</td>\n",
       "      <td>NaN</td>\n",
       "      <td>True</td>\n",
       "      <td>24-30 years</td>\n",
       "      <td>English</td>\n",
       "    </tr>\n",
       "    <tr>\n",
       "      <th>3</th>\n",
       "      <td>a1003</td>\n",
       "      <td>1/1/18</td>\n",
       "      <td>House Ads</td>\n",
       "      <td>personalization</td>\n",
       "      <td>English</td>\n",
       "      <td>1</td>\n",
       "      <td>House Ads</td>\n",
       "      <td>1/1/18</td>\n",
       "      <td>NaN</td>\n",
       "      <td>True</td>\n",
       "      <td>30-36 years</td>\n",
       "      <td>English</td>\n",
       "    </tr>\n",
       "    <tr>\n",
       "      <th>4</th>\n",
       "      <td>a1004</td>\n",
       "      <td>1/1/18</td>\n",
       "      <td>House Ads</td>\n",
       "      <td>personalization</td>\n",
       "      <td>English</td>\n",
       "      <td>1</td>\n",
       "      <td>House Ads</td>\n",
       "      <td>1/1/18</td>\n",
       "      <td>NaN</td>\n",
       "      <td>True</td>\n",
       "      <td>36-45 years</td>\n",
       "      <td>English</td>\n",
       "    </tr>\n",
       "    <tr>\n",
       "      <th>...</th>\n",
       "      <td>...</td>\n",
       "      <td>...</td>\n",
       "      <td>...</td>\n",
       "      <td>...</td>\n",
       "      <td>...</td>\n",
       "      <td>...</td>\n",
       "      <td>...</td>\n",
       "      <td>...</td>\n",
       "      <td>...</td>\n",
       "      <td>...</td>\n",
       "      <td>...</td>\n",
       "      <td>...</td>\n",
       "    </tr>\n",
       "    <tr>\n",
       "      <th>10032</th>\n",
       "      <td>a11032</td>\n",
       "      <td>1/17/18</td>\n",
       "      <td>Email</td>\n",
       "      <td>control</td>\n",
       "      <td>German</td>\n",
       "      <td>1</td>\n",
       "      <td>Email</td>\n",
       "      <td>1/17/18</td>\n",
       "      <td>1/24/18</td>\n",
       "      <td>False</td>\n",
       "      <td>45-55 years</td>\n",
       "      <td>German</td>\n",
       "    </tr>\n",
       "    <tr>\n",
       "      <th>10033</th>\n",
       "      <td>a11033</td>\n",
       "      <td>1/17/18</td>\n",
       "      <td>Email</td>\n",
       "      <td>control</td>\n",
       "      <td>German</td>\n",
       "      <td>1</td>\n",
       "      <td>Email</td>\n",
       "      <td>1/17/18</td>\n",
       "      <td>NaN</td>\n",
       "      <td>True</td>\n",
       "      <td>55+ years</td>\n",
       "      <td>German</td>\n",
       "    </tr>\n",
       "    <tr>\n",
       "      <th>10034</th>\n",
       "      <td>a11034</td>\n",
       "      <td>1/5/18</td>\n",
       "      <td>Instagram</td>\n",
       "      <td>control</td>\n",
       "      <td>German</td>\n",
       "      <td>0</td>\n",
       "      <td>Email</td>\n",
       "      <td>1/17/18</td>\n",
       "      <td>NaN</td>\n",
       "      <td>True</td>\n",
       "      <td>55+ years</td>\n",
       "      <td>German</td>\n",
       "    </tr>\n",
       "    <tr>\n",
       "      <th>10035</th>\n",
       "      <td>a11035</td>\n",
       "      <td>1/17/18</td>\n",
       "      <td>Email</td>\n",
       "      <td>control</td>\n",
       "      <td>German</td>\n",
       "      <td>1</td>\n",
       "      <td>Email</td>\n",
       "      <td>1/17/18</td>\n",
       "      <td>NaN</td>\n",
       "      <td>True</td>\n",
       "      <td>0-18 years</td>\n",
       "      <td>German</td>\n",
       "    </tr>\n",
       "    <tr>\n",
       "      <th>10036</th>\n",
       "      <td>a11036</td>\n",
       "      <td>1/6/18</td>\n",
       "      <td>Facebook</td>\n",
       "      <td>control</td>\n",
       "      <td>German</td>\n",
       "      <td>0</td>\n",
       "      <td>Email</td>\n",
       "      <td>1/17/18</td>\n",
       "      <td>NaN</td>\n",
       "      <td>True</td>\n",
       "      <td>0-18 years</td>\n",
       "      <td>German</td>\n",
       "    </tr>\n",
       "  </tbody>\n",
       "</table>\n",
       "<p>10037 rows × 12 columns</p>\n",
       "</div>"
      ],
      "text/plain": [
       "      user_id date_served marketing_channel          variant  \\\n",
       "0       a1000      1/1/18         House Ads  personalization   \n",
       "1       a1001      1/1/18         House Ads  personalization   \n",
       "2       a1002      1/1/18         House Ads  personalization   \n",
       "3       a1003      1/1/18         House Ads  personalization   \n",
       "4       a1004      1/1/18         House Ads  personalization   \n",
       "...       ...         ...               ...              ...   \n",
       "10032  a11032     1/17/18             Email          control   \n",
       "10033  a11033     1/17/18             Email          control   \n",
       "10034  a11034      1/5/18         Instagram          control   \n",
       "10035  a11035     1/17/18             Email          control   \n",
       "10036  a11036      1/6/18          Facebook          control   \n",
       "\n",
       "      language_displayed  converted subscribing_channel date_subscribed  \\\n",
       "0                English          1           House Ads          1/1/18   \n",
       "1                English          1           House Ads          1/1/18   \n",
       "2                English          1           House Ads          1/1/18   \n",
       "3                English          1           House Ads          1/1/18   \n",
       "4                English          1           House Ads          1/1/18   \n",
       "...                  ...        ...                 ...             ...   \n",
       "10032             German          1               Email         1/17/18   \n",
       "10033             German          1               Email         1/17/18   \n",
       "10034             German          0               Email         1/17/18   \n",
       "10035             German          1               Email         1/17/18   \n",
       "10036             German          0               Email         1/17/18   \n",
       "\n",
       "      date_canceled is_retained    age_group language_preferred  \n",
       "0               NaN        True   0-18 years            English  \n",
       "1               NaN        True  19-24 years            English  \n",
       "2               NaN        True  24-30 years            English  \n",
       "3               NaN        True  30-36 years            English  \n",
       "4               NaN        True  36-45 years            English  \n",
       "...             ...         ...          ...                ...  \n",
       "10032       1/24/18       False  45-55 years             German  \n",
       "10033           NaN        True    55+ years             German  \n",
       "10034           NaN        True    55+ years             German  \n",
       "10035           NaN        True   0-18 years             German  \n",
       "10036           NaN        True   0-18 years             German  \n",
       "\n",
       "[10037 rows x 12 columns]"
      ]
     },
     "execution_count": 225,
     "metadata": {},
     "output_type": "execute_result"
    }
   ],
   "source": [
    "df['converted'] = np.where(df['converted'] == True, 1, 0 )\n",
    "\n",
    "df"
   ]
  },
  {
   "cell_type": "code",
   "execution_count": 226,
   "metadata": {},
   "outputs": [
    {
     "name": "stdout",
     "output_type": "stream",
     "text": [
      "2.4070089722655752e-29\n"
     ]
    },
    {
     "data": {
      "text/html": [
       "<div>\n",
       "<style scoped>\n",
       "    .dataframe tbody tr th:only-of-type {\n",
       "        vertical-align: middle;\n",
       "    }\n",
       "\n",
       "    .dataframe tbody tr th {\n",
       "        vertical-align: top;\n",
       "    }\n",
       "\n",
       "    .dataframe thead th {\n",
       "        text-align: right;\n",
       "    }\n",
       "</style>\n",
       "<table border=\"1\" class=\"dataframe\">\n",
       "  <thead>\n",
       "    <tr style=\"text-align: right;\">\n",
       "      <th>converted</th>\n",
       "      <th>0</th>\n",
       "      <th>1</th>\n",
       "    </tr>\n",
       "    <tr>\n",
       "      <th>variant</th>\n",
       "      <th></th>\n",
       "      <th></th>\n",
       "    </tr>\n",
       "  </thead>\n",
       "  <tbody>\n",
       "    <tr>\n",
       "      <th>control</th>\n",
       "      <td>4720</td>\n",
       "      <td>371</td>\n",
       "    </tr>\n",
       "    <tr>\n",
       "      <th>personalization</th>\n",
       "      <td>4241</td>\n",
       "      <td>705</td>\n",
       "    </tr>\n",
       "  </tbody>\n",
       "</table>\n",
       "</div>"
      ],
      "text/plain": [
       "converted           0    1\n",
       "variant                   \n",
       "control          4720  371\n",
       "personalization  4241  705"
      ]
     },
     "execution_count": 226,
     "metadata": {},
     "output_type": "execute_result"
    }
   ],
   "source": [
    "from scipy.stats import chi2_contingency\n",
    "\n",
    "df_check = pd.crosstab(df['variant'], df['converted'])\n",
    "chi2, p_value, degreesf, ex_v = chi2_contingency(df_check)\n",
    "print(p_value)\n",
    "df_check\n",
    "\n"
   ]
  },
  {
   "cell_type": "code",
   "execution_count": 227,
   "metadata": {},
   "outputs": [],
   "source": [
    "def value(x):\n",
    "    return  - 45*x[0] - 80*x[1]"
   ]
  },
  {
   "cell_type": "code",
   "execution_count": 228,
   "metadata": {},
   "outputs": [],
   "source": [
    "\n",
    "neq_cons = {'type': 'ineq',\n",
    "             'fun': lambda x: np.array ([450 - 10 * x [0] - 15 * x [1],\n",
    "                                         400 - 5 * x [0] - 20 * x [1]])}"
   ]
  },
  {
   "cell_type": "code",
   "execution_count": 229,
   "metadata": {},
   "outputs": [],
   "source": [
    "from scipy.optimize import Bounds\n",
    "bnds = Bounds([0, 0], [np.inf, np.inf])"
   ]
  },
  {
   "cell_type": "code",
   "execution_count": 230,
   "metadata": {},
   "outputs": [
    {
     "name": "stdout",
     "output_type": "stream",
     "text": [
      "[24. 14.]\n"
     ]
    }
   ],
   "source": [
    "from scipy.optimize import minimize\n",
    "x0 = np.array([10, 10])\n",
    "res = minimize(value, x0, method='SLSQP', constraints=neq_cons, bounds=bnds)\n",
    "print(res.x)"
   ]
  },
  {
   "cell_type": "code",
   "execution_count": 231,
   "metadata": {},
   "outputs": [
    {
     "name": "stdout",
     "output_type": "stream",
     "text": [
      "Количество произведенных стульев и столов составляет [24. 14.] соответственно\n",
      "Максимизированная прибыль составит: 2200 долларов./месяц\n"
     ]
    }
   ],
   "source": [
    "print(f'Количество произведенных стульев и столов составляет {res.x} соответственно')\n",
    "print('Максимизированная прибыль составит:', -1*value([24, 14]),'долларов./месяц')"
   ]
  },
  {
   "cell_type": "code",
   "execution_count": 232,
   "metadata": {},
   "outputs": [
    {
     "data": {
      "text/html": [
       "<div>\n",
       "<style scoped>\n",
       "    .dataframe tbody tr th:only-of-type {\n",
       "        vertical-align: middle;\n",
       "    }\n",
       "\n",
       "    .dataframe tbody tr th {\n",
       "        vertical-align: top;\n",
       "    }\n",
       "\n",
       "    .dataframe thead th {\n",
       "        text-align: right;\n",
       "    }\n",
       "</style>\n",
       "<table border=\"1\" class=\"dataframe\">\n",
       "  <thead>\n",
       "    <tr style=\"text-align: right;\">\n",
       "      <th></th>\n",
       "      <th>day</th>\n",
       "      <th>retained</th>\n",
       "    </tr>\n",
       "  </thead>\n",
       "  <tbody>\n",
       "    <tr>\n",
       "      <th>0</th>\n",
       "      <td>1</td>\n",
       "      <td>0.4</td>\n",
       "    </tr>\n",
       "    <tr>\n",
       "      <th>1</th>\n",
       "      <td>3</td>\n",
       "      <td>0.6</td>\n",
       "    </tr>\n",
       "    <tr>\n",
       "      <th>2</th>\n",
       "      <td>7</td>\n",
       "      <td>0.8</td>\n",
       "    </tr>\n",
       "    <tr>\n",
       "      <th>3</th>\n",
       "      <td>14</td>\n",
       "      <td>1.1</td>\n",
       "    </tr>\n",
       "    <tr>\n",
       "      <th>4</th>\n",
       "      <td>21</td>\n",
       "      <td>1.3</td>\n",
       "    </tr>\n",
       "    <tr>\n",
       "      <th>5</th>\n",
       "      <td>30</td>\n",
       "      <td>1.4</td>\n",
       "    </tr>\n",
       "  </tbody>\n",
       "</table>\n",
       "</div>"
      ],
      "text/plain": [
       "   day  retained\n",
       "0    1       0.4\n",
       "1    3       0.6\n",
       "2    7       0.8\n",
       "3   14       1.1\n",
       "4   21       1.3\n",
       "5   30       1.4"
      ]
     },
     "execution_count": 232,
     "metadata": {},
     "output_type": "execute_result"
    }
   ],
   "source": [
    "df = pd.DataFrame({'day': [1,3,7,14,21,30],\n",
    "                   'retained': [0.4,0.6,0.8,1.10,1.30,1.40]})\n",
    "df.head(6)"
   ]
  },
  {
   "cell_type": "code",
   "execution_count": 233,
   "metadata": {},
   "outputs": [
    {
     "data": {
      "text/plain": [
       "<matplotlib.collections.PathCollection at 0x26ef829f050>"
      ]
     },
     "execution_count": 233,
     "metadata": {},
     "output_type": "execute_result"
    },
    {
     "data": {
      "image/png": "[encoded data removed]",
      "text/plain": [
       "<Figure size 640x480 with 1 Axes>"
      ]
     },
     "metadata": {},
     "output_type": "display_data"
    }
   ],
   "source": [
    "import matplotlib.pyplot as plt\n",
    "from matplotlib.pyplot import figure\n",
    "plt.figure(figsize=(8, 6), dpi=80, facecolor='w', edgecolor='k')\n",
    "plt.scatter(df['day'], df['retained'])"
   ]
  },
  {
   "cell_type": "code",
   "execution_count": 234,
   "metadata": {},
   "outputs": [],
   "source": [
    "def log_func( x, a, b, c ):\n",
    "    return -a * np.log2( b + x ) + c"
   ]
  },
  {
   "cell_type": "code",
   "execution_count": 235,
   "metadata": {},
   "outputs": [],
   "source": [
    "def exp_func( x, a, b, c ):\n",
    "    return a * np.exp( -b * x ) + c"
   ]
  },
  {
   "cell_type": "code",
   "execution_count": 236,
   "metadata": {},
   "outputs": [],
   "source": [
    "from scipy.optimize import curve_fit\n",
    "log_popt, log_pcov = curve_fit(log_func, df['day'], df['retained'])"
   ]
  },
  {
   "cell_type": "code",
   "execution_count": 237,
   "metadata": {},
   "outputs": [],
   "source": [
    "exp_popt, exp_pcov = curve_fit(exp_func, df['day'], df['retained'])"
   ]
  },
  {
   "cell_type": "code",
   "execution_count": 238,
   "metadata": {},
   "outputs": [],
   "source": [
    "projection_endpoint = 90"
   ]
  },
  {
   "cell_type": "code",
   "execution_count": 239,
   "metadata": {},
   "outputs": [],
   "source": [
    "log_y_projected = log_func( np.arange( projection_endpoint ), *log_popt )\n",
    "exp_y_projected = exp_func( np.arange( projection_endpoint ), *exp_popt )"
   ]
  },
  {
   "cell_type": "code",
   "execution_count": 240,
   "metadata": {},
   "outputs": [
    {
     "data": {
      "image/png": "[encoded data removed]",
      "text/plain": [
       "<Figure size 640x480 with 1 Axes>"
      ]
     },
     "metadata": {},
     "output_type": "display_data"
    }
   ],
   "source": [
    "import matplotlib.pyplot as plt\n",
    "from matplotlib.pyplot import figure\n",
    "plt.figure(num=None, figsize=(8, 6), dpi=80, facecolor='w', edgecolor='k')\n",
    "plt.scatter(df['day'], df['retained'], label=\"Original Data\" )\n",
    "plt.plot( log_y_projected, label=\"Log Function Projections\" )\n",
    "plt.plot( exp_y_projected, label=\"Exp Function Projections\" )\n",
    "plt.legend()\n",
    "plt.show()"
   ]
  },
  {
   "cell_type": "code",
   "execution_count": 241,
   "metadata": {},
   "outputs": [
    {
     "name": "stdout",
     "output_type": "stream",
     "text": [
      "Прогноз кол-ва пользователей через 90 дней по log модели 2.0\n",
      "Прогноз кол-ва пользователей через 90 дней по exp модели 2.0\n"
     ]
    }
   ],
   "source": [
    "print('Прогноз кол-ва пользователей через 90 дней по log модели', round(log_y_projected[89],0))\n",
    "print('Прогноз кол-ва пользователей через 90 дней по exp модели', round(exp_y_projected[89],0))"
   ]
  },
  {
   "cell_type": "code",
   "execution_count": 242,
   "metadata": {},
   "outputs": [
    {
     "data": {
      "text/plain": [
       "[0.40124030788520265,\n",
       " 0.5868265922309144,\n",
       " 0.8306563452037643,\n",
       " 1.0918230784760043,\n",
       " 1.2643750867065862,\n",
       " 1.4250785895188456]"
      ]
     },
     "execution_count": 242,
     "metadata": {},
     "output_type": "execute_result"
    }
   ],
   "source": [
    "y_log_pred = [log_y_projected[ i ] for i in list(df['day'])]\n",
    "y_log_pred"
   ]
  },
  {
   "cell_type": "code",
   "execution_count": 243,
   "metadata": {},
   "outputs": [
    {
     "data": {
      "text/plain": [
       "[0.4152644555519349,\n",
       " 0.5694065241828665,\n",
       " 0.81720684756981,\n",
       " 1.108495305483976,\n",
       " 1.2823787722727733,\n",
       " 1.4072480949334225]"
      ]
     },
     "execution_count": 243,
     "metadata": {},
     "output_type": "execute_result"
    }
   ],
   "source": [
    "y_exp_pred = [exp_y_projected[ i ] for i in list(df['day'])]\n",
    "y_exp_pred"
   ]
  },
  {
   "cell_type": "markdown",
   "metadata": {},
   "source": [
    "У обоих моделей относительно одинаковая точность"
   ]
  }
 ],
 "metadata": {
  "kernelspec": {
   "display_name": "Python 3",
   "language": "python",
   "name": "python3"
  },
  "language_info": {
   "codemirror_mode": {
    "name": "ipython",
    "version": 3
   },
   "file_extension": ".py",
   "mimetype": "text/x-python",
   "name": "python",
   "nbconvert_exporter": "python",
   "pygments_lexer": "ipython3",
   "version": "3.11.5"
  }
 },
 "nbformat": 4,
 "nbformat_minor": 2
}
