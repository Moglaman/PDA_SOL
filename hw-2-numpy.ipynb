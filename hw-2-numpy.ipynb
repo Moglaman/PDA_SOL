{
 "cells": [
  {
   "cell_type": "markdown",
   "metadata": {},
   "source": [
    "# Самостоятельная работа 2. Numpy\n",
    "\n",
    "1. Скачайте этот ноутбук к себе.\n",
    "2. Заполните пропущенные ячейки, отвечая на заданные вопросы. Там должен быть код! (если не сказано обратное)\n",
    "3. Сохраните результат в своём гитхаб репозитории.\n",
    "\n",
    "#### Полезная литература\n",
    "\n",
    "- http://www.numpy.org/\n",
    "- https://jakevdp.github.io/PythonDataScienceHandbook/02.00-introduction-to-numpy.html\n",
    "- https://docs.scipy.org/doc/numpy/user/quickstart.html"
   ]
  },
  {
   "cell_type": "markdown",
   "metadata": {},
   "source": [
    "1) Импортировать numpy и написать версию"
   ]
  },
  {
   "cell_type": "code",
   "execution_count": 2,
   "metadata": {},
   "outputs": [
    {
     "name": "stdout",
     "output_type": "stream",
     "text": [
      "1.26.0\n"
     ]
    }
   ],
   "source": [
    "import numpy as np    \n",
    "\n",
    "print(np.__version__)\n"
   ]
  },
  {
   "cell_type": "markdown",
   "metadata": {},
   "source": [
    "2) Создать нулевой вектор размера 10"
   ]
  },
  {
   "cell_type": "code",
   "execution_count": 3,
   "metadata": {},
   "outputs": [
    {
     "data": {
      "text/plain": [
       "array([0., 0., 0., 0., 0., 0., 0., 0., 0., 0.])"
      ]
     },
     "execution_count": 3,
     "metadata": {},
     "output_type": "execute_result"
    }
   ],
   "source": [
    "np.zeros(10)"
   ]
  },
  {
   "cell_type": "markdown",
   "metadata": {},
   "source": [
    "3) Создать вектор заполненный 7-ами размера 7"
   ]
  },
  {
   "cell_type": "code",
   "execution_count": 5,
   "metadata": {},
   "outputs": [
    {
     "data": {
      "text/plain": [
       "array([7, 7, 7, 7, 7, 7, 7])"
      ]
     },
     "execution_count": 5,
     "metadata": {},
     "output_type": "execute_result"
    }
   ],
   "source": [
    "np.full(7,7)"
   ]
  },
  {
   "cell_type": "markdown",
   "metadata": {},
   "source": [
    "4) Создать вектор заполненный четными числами от 10 до 100"
   ]
  },
  {
   "cell_type": "code",
   "execution_count": 10,
   "metadata": {},
   "outputs": [
    {
     "data": {
      "text/plain": [
       "array([10, 12, 14, 16, 18, 20, 22, 24, 26, 28, 30, 32, 34, 36, 38, 40, 42,\n",
       "       44, 46, 48, 50, 52, 54, 56, 58, 60, 62, 64, 66, 68, 70, 72, 74, 76,\n",
       "       78, 80, 82, 84, 86, 88, 90, 92, 94, 96, 98])"
      ]
     },
     "execution_count": 10,
     "metadata": {},
     "output_type": "execute_result"
    }
   ],
   "source": [
    "np.arange(10,100,2)"
   ]
  },
  {
   "cell_type": "markdown",
   "metadata": {},
   "source": [
    "5) Создать массив случайных чисел и развернуть его задом наперёд"
   ]
  },
  {
   "cell_type": "code",
   "execution_count": 98,
   "metadata": {},
   "outputs": [
    {
     "name": "stdout",
     "output_type": "stream",
     "text": [
      "Normal - [4 4 3 8 5 4]\n",
      "Reversed - [4 5 8 3 4 4]\n"
     ]
    }
   ],
   "source": [
    "array = np.random.randint(1, 10, size=(np.random.randint(6,10)))\n",
    "print(\"Normal - {}\". format(array))\n",
    "print(\"Reversed - {}\". format(array[::-1]))\n"
   ]
  },
  {
   "cell_type": "markdown",
   "metadata": {},
   "source": [
    "6) Создать двумерную матрицу размера 3 на 3, заполненную числами от 0 до 9"
   ]
  },
  {
   "cell_type": "code",
   "execution_count": 18,
   "metadata": {},
   "outputs": [
    {
     "name": "stdout",
     "output_type": "stream",
     "text": [
      "[[0 1 2]\n",
      " [3 4 5]\n",
      " [6 7 8]]\n"
     ]
    }
   ],
   "source": [
    "arr = np.arange(9)\n",
    "arr = arr.reshape(3,3)\n",
    "print(arr)\n"
   ]
  },
  {
   "cell_type": "markdown",
   "metadata": {},
   "source": [
    "7) Создать матрицу размера 4 на 4 с единицами на диагонали смещеной на один наверх."
   ]
  },
  {
   "cell_type": "code",
   "execution_count": 82,
   "metadata": {},
   "outputs": [
    {
     "data": {
      "text/plain": [
       "array([[0., 1., 0., 0.],\n",
       "       [0., 0., 1., 0.],\n",
       "       [0., 0., 0., 1.],\n",
       "       [0., 0., 0., 0.]])"
      ]
     },
     "execution_count": 82,
     "metadata": {},
     "output_type": "execute_result"
    }
   ],
   "source": [
    "np.eye(4, k=1)"
   ]
  },
  {
   "cell_type": "markdown",
   "metadata": {},
   "source": [
    "8) Создать матрицу с числами в диапазоне от 1 до 4 по диагонали. В других ячейках матрицы должны быть семерки."
   ]
  },
  {
   "cell_type": "code",
   "execution_count": 174,
   "metadata": {},
   "outputs": [
    {
     "name": "stdout",
     "output_type": "stream",
     "text": [
      "[[1 7 7 7]\n",
      " [7 2 7 7]\n",
      " [7 7 3 7]\n",
      " [7 7 7 4]]\n",
      "range(0, 4)\n"
     ]
    }
   ],
   "source": [
    "s = np.diag([1,2,3,4])\n",
    "for i in range(s.shape[0]):\n",
    "    for n in range(s.shape[1]):\n",
    "        if i != n:\n",
    "            s[i][n] = 7\n",
    "\n",
    "print(s)\n"
   ]
  },
  {
   "cell_type": "markdown",
   "metadata": {},
   "source": [
    "9) Создать матрицу размера 5 на 5 заполненную чилами от 0 до 4 в строках."
   ]
  },
  {
   "cell_type": "code",
   "execution_count": 103,
   "metadata": {},
   "outputs": [
    {
     "name": "stdout",
     "output_type": "stream",
     "text": [
      "[[0 1 2 3 4]\n",
      " [0 1 2 3 4]\n",
      " [0 1 2 3 4]\n",
      " [0 1 2 3 4]\n",
      " [0 1 2 3 4]]\n"
     ]
    }
   ],
   "source": [
    "s = np.full((5,5),[0,1,2,3,4]) \n",
    "\n",
    "print(s)       \n",
    "  "
   ]
  },
  {
   "cell_type": "markdown",
   "metadata": {},
   "source": [
    "10) Создать матрицу случайных чисел размера 10 на 10 и отнять среднее по строкам из каждого элемента строки"
   ]
  },
  {
   "cell_type": "code",
   "execution_count": 188,
   "metadata": {},
   "outputs": [
    {
     "name": "stdout",
     "output_type": "stream",
     "text": [
      "[[2 4 6 4 2 8 8 3 1 3]\n",
      " [8 3 7 6 2 2 3 6 2 6]\n",
      " [9 7 9 7 7 6 8 6 2 7]\n",
      " [5 6 6 7 6 3 2 6 8 6]\n",
      " [3 8 9 4 3 3 8 9 5 9]\n",
      " [9 8 4 5 7 9 8 4 9 5]\n",
      " [7 7 9 4 8 2 1 2 3 4]\n",
      " [9 1 5 2 8 2 5 7 9 8]\n",
      " [9 4 5 8 3 9 1 2 9 3]\n",
      " [7 7 4 2 6 4 3 6 8 3]]\n",
      "[4.1 4.5 6.8 5.5 6.1 6.8 4.7 5.6 5.3 5. ]\n",
      "[[-2.1 -0.5 -0.8 -1.5 -4.1  1.2  3.3 -2.6 -4.3 -2. ]\n",
      " [ 3.9 -1.5  0.2  0.5 -4.1 -4.8 -1.7  0.4 -3.3  1. ]\n",
      " [ 4.9  2.5  2.2  1.5  0.9 -0.8  3.3  0.4 -3.3  2. ]\n",
      " [ 0.9  1.5 -0.8  1.5 -0.1 -3.8 -2.7  0.4  2.7  1. ]\n",
      " [-1.1  3.5  2.2 -1.5 -3.1 -3.8  3.3  3.4 -0.3  4. ]\n",
      " [ 4.9  3.5 -2.8 -0.5  0.9  2.2  3.3 -1.6  3.7  0. ]\n",
      " [ 2.9  2.5  2.2 -1.5  1.9 -4.8 -3.7 -3.6 -2.3 -1. ]\n",
      " [ 4.9 -3.5 -1.8 -3.5  1.9 -4.8  0.3  1.4  3.7  3. ]\n",
      " [ 4.9 -0.5 -1.8  2.5 -3.1  2.2 -3.7 -3.6  3.7 -2. ]\n",
      " [ 2.9  2.5 -2.8 -3.5 -0.1 -2.8 -1.7  0.4  2.7 -2. ]]\n"
     ]
    }
   ],
   "source": [
    "\n",
    "s = np.random.randint(1,10, size=(10,10))\n",
    "meanmat = s.mean(axis=1)\n",
    "z = s - meanmat\n",
    "\n",
    "print(s)\n",
    "print(meanmat)\n",
    "print(z)\n"
   ]
  },
  {
   "cell_type": "markdown",
   "metadata": {},
   "source": [
    "11) Создать матрицу случайных чисел размера 10 на 10 и отнять медиану по столбцам из каждого элемента столбца  "
   ]
  },
  {
   "cell_type": "code",
   "execution_count": 202,
   "metadata": {},
   "outputs": [
    {
     "name": "stdout",
     "output_type": "stream",
     "text": [
      "[[5 2 4 1 5 8 3 7 9 9]\n",
      " [3 1 4 1 9 7 2 7 8 2]\n",
      " [5 4 4 5 2 5 1 1 7 1]\n",
      " [2 2 6 3 8 3 6 2 2 4]\n",
      " [4 2 5 7 1 3 3 1 6 1]\n",
      " [3 7 9 2 1 2 3 1 7 9]\n",
      " [9 2 3 3 2 5 8 6 5 1]\n",
      " [2 4 7 3 2 6 5 7 6 8]\n",
      " [8 6 3 3 6 3 6 2 3 8]\n",
      " [4 2 2 2 8 3 4 2 8 5]]\n",
      "[4.  2.  4.  3.  3.5 4.  3.5 2.  6.5 4.5]\n",
      "[[ 1.   0.   0.  -2.   1.5  4.  -0.5  5.   2.5  4.5]\n",
      " [-1.  -1.   0.  -2.   5.5  3.  -1.5  5.   1.5 -2.5]\n",
      " [ 1.   2.   0.   2.  -1.5  1.  -2.5 -1.   0.5 -3.5]\n",
      " [-2.   0.   2.   0.   4.5 -1.   2.5  0.  -4.5 -0.5]\n",
      " [ 0.   0.   1.   4.  -2.5 -1.  -0.5 -1.  -0.5 -3.5]\n",
      " [-1.   5.   5.  -1.  -2.5 -2.  -0.5 -1.   0.5  4.5]\n",
      " [ 5.   0.  -1.   0.  -1.5  1.   4.5  4.  -1.5 -3.5]\n",
      " [-2.   2.   3.   0.  -1.5  2.   1.5  5.  -0.5  3.5]\n",
      " [ 4.   4.  -1.   0.   2.5 -1.   2.5  0.  -3.5  3.5]\n",
      " [ 0.   0.  -2.  -1.   4.5 -1.   0.5  0.   1.5  0.5]]\n"
     ]
    }
   ],
   "source": [
    "matrix = np.random.randint(1,10, size=(10,10))\n",
    "matrixmed = np.median(matrix, axis=0)\n",
    "z =matrix-matrixmed \n",
    "print(matrix)\n",
    "print(matrixmed)\n",
    "print(z)"
   ]
  },
  {
   "cell_type": "markdown",
   "metadata": {},
   "source": [
    "12) Создать матрицу случайных чисел 5x5. Добавить к ней столбецы максимумов и минимумов по строкам. Получится матрица 5x7.  "
   ]
  },
  {
   "cell_type": "code",
   "execution_count": 246,
   "metadata": {},
   "outputs": [
    {
     "data": {
      "text/plain": [
       "array([[3, 4, 5, 6, 9, 9, 3],\n",
       "       [7, 7, 9, 8, 7, 9, 7],\n",
       "       [7, 6, 2, 8, 5, 8, 2],\n",
       "       [9, 1, 9, 9, 2, 9, 1],\n",
       "       [3, 1, 4, 1, 2, 4, 1]])"
      ]
     },
     "execution_count": 246,
     "metadata": {},
     "output_type": "execute_result"
    }
   ],
   "source": [
    "a = np.random.randint(1, 10, (5, 5))\n",
    "mx = np.array([a.max(axis=1)])\n",
    "mn = np.array([a.min(axis=1)])\n",
    "\n",
    "res = np.hstack((a, mx.T, mn.T))\n",
    "res\n"
   ]
  },
  {
   "cell_type": "markdown",
   "metadata": {},
   "source": [
    "13) Вектор чисел от 1 до 51 преобразовать в вектор нечетных чисел и в вектор четных чисел, поменять их размерности, чтобы получились две матрица. Найти произведение этих матриц. Найти обратную матрицу эётого произведения.  "
   ]
  },
  {
   "cell_type": "code",
   "execution_count": 287,
   "metadata": {},
   "outputs": [
    {
     "name": "stdout",
     "output_type": "stream",
     "text": [
      "[ 1  3  5  7  9 11 13 15 17 19 21 23 25 27 29 31 33 35 37 39 41 43 45 47\n",
      " 49]\n",
      "[ 2  4  6  8 10 12 14 16 18 20 22 24 26 28 30 32 34 36 38 40 42 44 46 48\n",
      " 50]\n"
     ]
    },
    {
     "ename": "LinAlgError",
     "evalue": "Singular matrix",
     "output_type": "error",
     "traceback": [
      "\u001b[1;31m---------------------------------------------------------------------------\u001b[0m",
      "\u001b[1;31mLinAlgError\u001b[0m                               Traceback (most recent call last)",
      "\u001b[1;32mc:\\Users\\kaigo\\МГПУ\\hw-2-numpy.ipynb Cell 27\u001b[0m line \u001b[0;36m9\n\u001b[0;32m      <a href='vscode-notebook-cell:/c%3A/Users/kaigo/%D0%9C%D0%93%D0%9F%D0%A3/hw-2-numpy.ipynb#X35sZmlsZQ%3D%3D?line=6'>7</a>\u001b[0m det \u001b[39m=\u001b[39m np\u001b[39m.\u001b[39mlinalg\u001b[39m.\u001b[39mdet(z)\n\u001b[0;32m      <a href='vscode-notebook-cell:/c%3A/Users/kaigo/%D0%9C%D0%93%D0%9F%D0%A3/hw-2-numpy.ipynb#X35sZmlsZQ%3D%3D?line=7'>8</a>\u001b[0m \u001b[39m#Определитель равен 0, обратной матрицы нет\u001b[39;00m\n\u001b[1;32m----> <a href='vscode-notebook-cell:/c%3A/Users/kaigo/%D0%9C%D0%93%D0%9F%D0%A3/hw-2-numpy.ipynb#X35sZmlsZQ%3D%3D?line=8'>9</a>\u001b[0m result \u001b[39m=\u001b[39m np\u001b[39m.\u001b[39;49mlinalg\u001b[39m.\u001b[39;49minv(z)\n\u001b[0;32m     <a href='vscode-notebook-cell:/c%3A/Users/kaigo/%D0%9C%D0%93%D0%9F%D0%A3/hw-2-numpy.ipynb#X35sZmlsZQ%3D%3D?line=9'>10</a>\u001b[0m result\n",
      "File \u001b[1;32mc:\\Users\\kaigo\\AppData\\Local\\Programs\\Python\\Python311\\Lib\\site-packages\\numpy\\linalg\\linalg.py:561\u001b[0m, in \u001b[0;36minv\u001b[1;34m(a)\u001b[0m\n\u001b[0;32m    559\u001b[0m signature \u001b[39m=\u001b[39m \u001b[39m'\u001b[39m\u001b[39mD->D\u001b[39m\u001b[39m'\u001b[39m \u001b[39mif\u001b[39;00m isComplexType(t) \u001b[39melse\u001b[39;00m \u001b[39m'\u001b[39m\u001b[39md->d\u001b[39m\u001b[39m'\u001b[39m\n\u001b[0;32m    560\u001b[0m extobj \u001b[39m=\u001b[39m get_linalg_error_extobj(_raise_linalgerror_singular)\n\u001b[1;32m--> 561\u001b[0m ainv \u001b[39m=\u001b[39m _umath_linalg\u001b[39m.\u001b[39;49minv(a, signature\u001b[39m=\u001b[39;49msignature, extobj\u001b[39m=\u001b[39;49mextobj)\n\u001b[0;32m    562\u001b[0m \u001b[39mreturn\u001b[39;00m wrap(ainv\u001b[39m.\u001b[39mastype(result_t, copy\u001b[39m=\u001b[39m\u001b[39mFalse\u001b[39;00m))\n",
      "File \u001b[1;32mc:\\Users\\kaigo\\AppData\\Local\\Programs\\Python\\Python311\\Lib\\site-packages\\numpy\\linalg\\linalg.py:112\u001b[0m, in \u001b[0;36m_raise_linalgerror_singular\u001b[1;34m(err, flag)\u001b[0m\n\u001b[0;32m    111\u001b[0m \u001b[39mdef\u001b[39;00m \u001b[39m_raise_linalgerror_singular\u001b[39m(err, flag):\n\u001b[1;32m--> 112\u001b[0m     \u001b[39mraise\u001b[39;00m LinAlgError(\u001b[39m\"\u001b[39m\u001b[39mSingular matrix\u001b[39m\u001b[39m\"\u001b[39m)\n",
      "\u001b[1;31mLinAlgError\u001b[0m: Singular matrix"
     ]
    }
   ],
   "source": [
    "x = np.arange(1,51)\n",
    "even = np.array(x[1::2])\n",
    "odd = np.array(x[::2])\n",
    "print(odd)\n",
    "print(even)\n",
    "z=np.outer(even, odd)\n",
    "det = np.linalg.det(z)\n",
    "#Определитель равен 0, обратной матрицы нет\n",
    "result = np.linalg.inv(z)\n",
    "result\n",
    "\n",
    "\n"
   ]
  },
  {
   "cell_type": "markdown",
   "metadata": {},
   "source": [
    "14) Создать 8x8 матрицу и заполнить её в шахматном порядке нулями и единицами. "
   ]
  },
  {
   "cell_type": "code",
   "execution_count": 252,
   "metadata": {},
   "outputs": [
    {
     "data": {
      "text/plain": [
       "array([[0., 1., 0., 1., 0., 1., 0., 1.],\n",
       "       [1., 0., 1., 0., 1., 0., 1., 0.],\n",
       "       [0., 1., 0., 1., 0., 1., 0., 1.],\n",
       "       [1., 0., 1., 0., 1., 0., 1., 0.],\n",
       "       [0., 1., 0., 1., 0., 1., 0., 1.],\n",
       "       [1., 0., 1., 0., 1., 0., 1., 0.],\n",
       "       [0., 1., 0., 1., 0., 1., 0., 1.],\n",
       "       [1., 0., 1., 0., 1., 0., 1., 0.]])"
      ]
     },
     "execution_count": 252,
     "metadata": {},
     "output_type": "execute_result"
    }
   ],
   "source": [
    "zm = np.zeros((8,8))\n",
    "for i in range(zm.shape[0]):\n",
    "    for x in range(zm.shape[1]):\n",
    "        if (i+x) % 2 == 0:\n",
    "            zm[i][x] = 0\n",
    "        else:\n",
    "            zm[i][x] = 1\n",
    "zm"
   ]
  }
 ],
 "metadata": {
  "kernelspec": {
   "display_name": "Python 3",
   "language": "python",
   "name": "python3"
  },
  "language_info": {
   "codemirror_mode": {
    "name": "ipython",
    "version": 3
   },
   "file_extension": ".py",
   "mimetype": "text/x-python",
   "name": "python",
   "nbconvert_exporter": "python",
   "pygments_lexer": "ipython3",
   "version": "3.11.5"
  }
 },
 "nbformat": 4,
 "nbformat_minor": 4
}
