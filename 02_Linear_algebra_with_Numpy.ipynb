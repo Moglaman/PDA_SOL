{
  "cells": [
    {
      "cell_type": "markdown",
      "metadata": {
        "id": "rg-FKkhnp4LP"
      },
      "source": [
        "# Линейная алгебра с Numpy\n",
        "\n",
        "С помощью [Sympy](http://www.sympy.org/en/index.html) можно выполнять символьную линейную алгебру, но для числовых вычислений [Numpy](http://www.numpy.org/) является высокопроизводительная библиотека, которую следует использовать при решении математических и инженерныхзадач.\n",
        "\n",
        "Описание:\n",
        "\n",
        "> NumPy — это фундаментальный пакет для научных вычислений на Python. Он содержит, среди прочего: [...]\n",
        " линейную алгебру, преобразование Фурье и теорию вероятностей.\n",
        "\n",
        "В этом разделе научимся, как:\n",
        "\n",
        "- работать с матрицами;\n",
        "- решать матричные уравнения;\n",
        "- рассчитывать обратную матрицу и определители.\n",
        "\n",
        "## Работа с матрицами\n",
        "\n",
        "Создать матрицу с помощью Numpy несложно. В качестве примера рассмотрим следующее:\n",
        "\n",
        "$$\n",
        "A = \\begin{pmatrix}\n",
        "5 & 6 & 2\\\\\n",
        "4 & 7 & 19\\\\\n",
        "0 & 3 & 12\n",
        "\\end{pmatrix}\n",
        "$$\n",
        "\n",
        "$$\n",
        "B = \\begin{pmatrix}\n",
        "14 & -2 & 12\\\\\n",
        "4 & 4 & 5\\\\\n",
        "5 & 5 & 1\n",
        "\\end{pmatrix}\n",
        "$$\n",
        "\n",
        "\n",
        "Сначала, как и в Sympy, нам нужно импортировать Numpy:"
      ]
    },
    {
      "cell_type": "code",
      "execution_count": 1,
      "metadata": {
        "collapsed": true,
        "id": "vxXrjUFEp4LR"
      },
      "outputs": [],
      "source": [
        "import numpy as np"
      ]
    },
    {
      "cell_type": "markdown",
      "metadata": {
        "id": "5LnPuC3Tp4LT"
      },
      "source": [
        "Теперь можем определить $A$:"
      ]
    },
    {
      "cell_type": "code",
      "execution_count": 2,
      "metadata": {
        "collapsed": true,
        "id": "-KCCC20_p4LT"
      },
      "outputs": [],
      "source": [
        "A = np.matrix([[5, 6, 2],\n",
        "               [4, 7, 19],\n",
        "               [0, 3, 12]])"
      ]
    },
    {
      "cell_type": "code",
      "execution_count": 3,
      "metadata": {
        "id": "PI2zlZBNp4LT"
      },
      "outputs": [
        {
          "data": {
            "text/plain": [
              "matrix([[ 5,  6,  2],\n",
              "        [ 4,  7, 19],\n",
              "        [ 0,  3, 12]])"
            ]
          },
          "execution_count": 3,
          "metadata": {},
          "output_type": "execute_result"
        }
      ],
      "source": [
        "A"
      ]
    },
    {
      "cell_type": "code",
      "execution_count": 4,
      "metadata": {
        "collapsed": true,
        "id": "Y519asZrp4LU"
      },
      "outputs": [],
      "source": [
        "B = np.matrix([[14, -2, 12],\n",
        "               [4, 4, 5],\n",
        "               [5, 5, 1]])"
      ]
    },
    {
      "cell_type": "code",
      "execution_count": null,
      "metadata": {
        "id": "x5pVDdO7p4LV"
      },
      "outputs": [],
      "source": [
        "B"
      ]
    },
    {
      "cell_type": "markdown",
      "metadata": {
        "id": "aS8Wd7u2p4LV"
      },
      "source": [
        "Можно получить как следствие:\n",
        "\n",
        "- $5A$ (или любое другое скалярное число, кратное $A$);\n",
        "- $A ^ 3$ (или любой другой показатель $A$);\n",
        "- $A + B$;\n",
        "- $A - B$;\n",
        "- $AB$"
      ]
    },
    {
      "cell_type": "code",
      "execution_count": 5,
      "metadata": {
        "id": "GLBGRLLgp4LV"
      },
      "outputs": [
        {
          "data": {
            "text/plain": [
              "matrix([[25, 30, 10],\n",
              "        [20, 35, 95],\n",
              "        [ 0, 15, 60]])"
            ]
          },
          "execution_count": 5,
          "metadata": {},
          "output_type": "execute_result"
        }
      ],
      "source": [
        "5 * A"
      ]
    },
    {
      "cell_type": "code",
      "execution_count": 6,
      "metadata": {
        "id": "GoIhIqMsp4LV"
      },
      "outputs": [
        {
          "data": {
            "text/plain": [
              "matrix([[ 557, 1284, 3356],\n",
              "        [ 760, 2305, 6994],\n",
              "        [ 288, 1074, 3519]])"
            ]
          },
          "execution_count": 6,
          "metadata": {},
          "output_type": "execute_result"
        }
      ],
      "source": [
        "A ** 3"
      ]
    },
    {
      "cell_type": "code",
      "execution_count": 7,
      "metadata": {
        "id": "Va-q4y9pp4LV"
      },
      "outputs": [
        {
          "data": {
            "text/plain": [
              "matrix([[19,  4, 14],\n",
              "        [ 8, 11, 24],\n",
              "        [ 5,  8, 13]])"
            ]
          },
          "execution_count": 7,
          "metadata": {},
          "output_type": "execute_result"
        }
      ],
      "source": [
        "A + B"
      ]
    },
    {
      "cell_type": "code",
      "execution_count": 8,
      "metadata": {
        "id": "0hT4cYEJp4LV"
      },
      "outputs": [
        {
          "data": {
            "text/plain": [
              "matrix([[ -9,   8, -10],\n",
              "        [  0,   3,  14],\n",
              "        [ -5,  -2,  11]])"
            ]
          },
          "execution_count": 8,
          "metadata": {},
          "output_type": "execute_result"
        }
      ],
      "source": [
        "A - B"
      ]
    },
    {
      "cell_type": "code",
      "execution_count": 9,
      "metadata": {
        "id": "RClISg_tp4LW"
      },
      "outputs": [
        {
          "data": {
            "text/plain": [
              "matrix([[104,  24,  92],\n",
              "        [179, 115, 102],\n",
              "        [ 72,  72,  27]])"
            ]
          },
          "execution_count": 9,
          "metadata": {},
          "output_type": "execute_result"
        }
      ],
      "source": [
        "A * B"
      ]
    },
    {
      "cell_type": "markdown",
      "metadata": {
        "id": "2HUiofl3p4LW"
      },
      "source": [
        "---\n",
        "\n",
        "**УПРАЖНЕНИЕ 1** Решить $A ^ 2 – 2 A + 3$ с помощью:\n",
        "\n",
        "$$A =\n",
        "\\begin{pmatrix}\n",
        "1 & -1\\\\\n",
        "2 & 1\n",
        "\\end{pmatrix}\n",
        "$$\n",
        "\n",
        "---\n",
        "\n",
        "## Решение матричных уравнений\n",
        "\n",
        "Можно использовать Numpy для (эффективного) решения больших систем уравнений вида:\n",
        "\n",
        "$$Ax=b$$\n",
        "\n",
        "Проиллюстрируем это:\n",
        "\n",
        "$$\n",
        "A = \\begin{pmatrix}\n",
        "5 & 6 & 2\\\\\n",
        "4 & 7 & 19\\\\\n",
        "0 & 3 & 12\n",
        "\\end{pmatrix}\n",
        "$$\n",
        "\n",
        "$$\n",
        "b = \\begin{pmatrix}\n",
        "-1\\\\\n",
        "2\\\\\n",
        "1\n",
        "\\end{pmatrix}\n",
        "$$"
      ]
    },
    {
      "cell_type": "code",
      "execution_count": 11,
      "metadata": {},
      "outputs": [
        {
          "data": {
            "text/plain": [
              "matrix([[0, 3],\n",
              "        [3, 0]])"
            ]
          },
          "execution_count": 11,
          "metadata": {},
          "output_type": "execute_result"
        }
      ],
      "source": [
        "# Решение 1 задачи\n",
        "A = np.matrix([[1, -1],\n",
        "               [2, 1]])\n",
        "\n",
        "A**2 - 2*A +3"
      ]
    },
    {
      "cell_type": "code",
      "execution_count": 12,
      "metadata": {
        "collapsed": true,
        "id": "BKRBLJdlp4LW"
      },
      "outputs": [],
      "source": [
        "A = np.matrix([[5, 6, 2],\n",
        "               [4, 7, 19],\n",
        "               [0, 3, 12]])\n",
        "b = np.matrix([[-1], [2], [1]])"
      ]
    },
    {
      "cell_type": "markdown",
      "metadata": {
        "id": "Cy-8-9Lrp4LW"
      },
      "source": [
        "Мы используем команду `linalg.solve`:"
      ]
    },
    {
      "cell_type": "code",
      "execution_count": 13,
      "metadata": {
        "id": "S28mhHKup4LW"
      },
      "outputs": [
        {
          "data": {
            "text/plain": [
              "matrix([[ 0.45736434],\n",
              "        [-0.62790698],\n",
              "        [ 0.24031008]])"
            ]
          },
          "execution_count": 13,
          "metadata": {},
          "output_type": "execute_result"
        }
      ],
      "source": [
        "x = np.linalg.solve(A, b)\n",
        "x"
      ]
    },
    {
      "cell_type": "markdown",
      "metadata": {
        "id": "OvYF3ugDp4LW"
      },
      "source": [
        "Проверим результат:"
      ]
    },
    {
      "cell_type": "code",
      "execution_count": 14,
      "metadata": {
        "id": "b3MEe9nhp4LX"
      },
      "outputs": [
        {
          "data": {
            "text/plain": [
              "matrix([[-1.],\n",
              "        [ 2.],\n",
              "        [ 1.]])"
            ]
          },
          "execution_count": 14,
          "metadata": {},
          "output_type": "execute_result"
        }
      ],
      "source": [
        "A * x"
      ]
    },
    {
      "cell_type": "markdown",
      "metadata": {
        "id": "SqJWo3igp4LX"
      },
      "source": [
        "---\n",
        "**УПРАЖНЕНИЕ 2** Найти решение матричного уравнения $Bx=b$ (используя $B$).\n",
        "\n",
        "---\n",
        "\n",
        "## Обратные матрицы и определители\n",
        "\n",
        "Найдем обратную матрицу:"
      ]
    },
    {
      "cell_type": "code",
      "execution_count": 16,
      "metadata": {},
      "outputs": [
        {
          "data": {
            "text/plain": [
              "matrix([[-0.25892857],\n",
              "        [ 0.40178571],\n",
              "        [ 0.28571429]])"
            ]
          },
          "execution_count": 16,
          "metadata": {},
          "output_type": "execute_result"
        }
      ],
      "source": [
        "# Решение 2 задачи\n",
        "B = np.matrix([[14, -2, 12],\n",
        "               [4, 4, 5],\n",
        "               [5, 5, 1]])\n",
        "b = np.matrix([[-1], [2], [1]])\n",
        "\n",
        "x = np.linalg.solve(B, b)\n",
        "x"
      ]
    },
    {
      "cell_type": "code",
      "execution_count": 17,
      "metadata": {
        "id": "40ZnMcmYp4LX"
      },
      "outputs": [
        {
          "data": {
            "text/plain": [
              "matrix([[-0.20930233,  0.51162791, -0.7751938 ],\n",
              "        [ 0.37209302, -0.46511628,  0.6744186 ],\n",
              "        [-0.09302326,  0.11627907, -0.08527132]])"
            ]
          },
          "execution_count": 17,
          "metadata": {},
          "output_type": "execute_result"
        }
      ],
      "source": [
        "Ainv = np.linalg.inv(A)\n",
        "Ainv"
      ]
    },
    {
      "cell_type": "markdown",
      "metadata": {
        "id": "2P56AFdPp4LX"
      },
      "source": [
        "Проверка $A^{-1}A=\\mathbb{1}$:"
      ]
    },
    {
      "cell_type": "code",
      "execution_count": 18,
      "metadata": {
        "id": "E0w8uSJ1p4LX",
        "tags": [
          "nbval-ignore-output"
        ]
      },
      "outputs": [
        {
          "data": {
            "text/plain": [
              "matrix([[ 1.00000000e+00,  4.99600361e-16, -4.71844785e-16],\n",
              "        [ 1.38777878e-16,  1.00000000e+00, -2.63677968e-16],\n",
              "        [ 1.11022302e-16,  1.11022302e-16,  1.00000000e+00]])"
            ]
          },
          "execution_count": 18,
          "metadata": {},
          "output_type": "execute_result"
        }
      ],
      "source": [
        "A * Ainv"
      ]
    },
    {
      "cell_type": "markdown",
      "metadata": {
        "id": "ODJ_7muxp4LX"
      },
      "source": [
        "Казалось бы, что матрица не единичная, однако по главной  `1` , а на всех остальных позициях **очень** маленькие числа (однако для компьютера это `0`)."
      ]
    },
    {
      "cell_type": "markdown",
      "metadata": {
        "id": "gPcR_9X9p4LX"
      },
      "source": [
        "Вычислим детерминант:"
      ]
    },
    {
      "cell_type": "code",
      "execution_count": 19,
      "metadata": {
        "id": "KxY9zOm_p4LY",
        "tags": [
          "nbval-ignore-output"
        ]
      },
      "outputs": [
        {
          "data": {
            "text/plain": [
              "-129.00000000000009"
            ]
          },
          "execution_count": 19,
          "metadata": {},
          "output_type": "execute_result"
        }
      ],
      "source": [
        "np.linalg.det(A)"
      ]
    },
    {
      "cell_type": "markdown",
      "metadata": {
        "id": "zKh5JnsWp4LY"
      },
      "source": [
        "---\n",
        "\n",
        "**УПРАЖНЕНИЕ 2** Вычислите обратную матрицу и определитель $B$ (ранее уже находили).\n",
        "\n",
        "---"
      ]
    },
    {
      "cell_type": "code",
      "execution_count": 20,
      "metadata": {},
      "outputs": [
        {
          "data": {
            "text/plain": [
              "matrix([[ 6.25000000e-02, -1.84523810e-01,  1.72619048e-01],\n",
              "        [-6.25000000e-02,  1.36904762e-01,  6.54761905e-02],\n",
              "        [-1.09511795e-17,  2.38095238e-01, -1.90476190e-01]])"
            ]
          },
          "execution_count": 20,
          "metadata": {},
          "output_type": "execute_result"
        }
      ],
      "source": [
        "B = np.matrix([[14, -2, 12],\n",
        "               [4, 4, 5],\n",
        "               [5, 5, 1]])\n",
        "Ainv = np.linalg.inv(B)\n",
        "Ainv"
      ]
    },
    {
      "cell_type": "code",
      "execution_count": 21,
      "metadata": {},
      "outputs": [
        {
          "data": {
            "text/plain": [
              "-336.0"
            ]
          },
          "execution_count": 21,
          "metadata": {},
          "output_type": "execute_result"
        }
      ],
      "source": [
        "np.linalg.det(B)"
      ]
    }
  ],
  "metadata": {
    "anaconda-cloud": {},
    "celltoolbar": "Tags",
    "colab": {
      "provenance": []
    },
    "kernelspec": {
      "display_name": "Python 3",
      "language": "python",
      "name": "python3"
    },
    "language_info": {
      "codemirror_mode": {
        "name": "ipython",
        "version": 3
      },
      "file_extension": ".py",
      "mimetype": "text/x-python",
      "name": "python",
      "nbconvert_exporter": "python",
      "pygments_lexer": "ipython3",
      "version": "3.11.5"
    }
  },
  "nbformat": 4,
  "nbformat_minor": 0
}
